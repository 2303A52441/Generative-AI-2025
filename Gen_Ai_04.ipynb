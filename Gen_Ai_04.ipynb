{
  "nbformat": 4,
  "nbformat_minor": 0,
  "metadata": {
    "colab": {
      "provenance": [],
      "authorship_tag": "ABX9TyNhS2C1H3JyfvhFd4wBUpRe",
      "include_colab_link": true
    },
    "kernelspec": {
      "name": "python3",
      "display_name": "Python 3"
    },
    "language_info": {
      "name": "python"
    }
  },
  "cells": [
    {
      "cell_type": "markdown",
      "metadata": {
        "id": "view-in-github",
        "colab_type": "text"
      },
      "source": [
        "<a href=\"https://colab.research.google.com/github/2303A52441/Generative-AI-2025/blob/main/Gen_Ai_04.ipynb\" target=\"_parent\"><img src=\"https://colab.research.google.com/assets/colab-badge.svg\" alt=\"Open In Colab\"/></a>"
      ]
    },
    {
      "cell_type": "code",
      "source": [
        "class ANN_Linear:\n",
        "    def __init__(self, learning_rate=0.01, epochs=1000):\n",
        "        self.learning_rate = learning_rate\n",
        "        self.epochs = epochs\n",
        "        self.weights = [0.1, 0.1, 0.1]  # Initialize weights\n",
        "        self.bias = 0.1  # Initialize bias\n",
        "\n",
        "    def train(self, X, y):\n",
        "        n = len(y)\n",
        "        for _ in range(self.epochs):\n",
        "            total_error = 0\n",
        "            for i in range(n):\n",
        "                y_pred = sum([X[i][j] * self.weights[j] for j in range(3)]) + self.bias\n",
        "                error = y_pred - y[i]\n",
        "                total_error += error ** 2\n",
        "\n",
        "                # Gradient Descent Update\n",
        "                for j in range(3):\n",
        "                    self.weights[j] -= self.learning_rate * 2 * error * X[i][j]\n",
        "                self.bias -= self.learning_rate * 2 * error\n",
        "\n",
        "    def predict(self, X):\n",
        "        return [sum([X[i][j] * self.weights[j] for j in range(3)]) + self.bias for i in range(len(X))]\n",
        "\n",
        "    def mse(self, X, y):\n",
        "        predictions = self.predict(X)\n",
        "        return sum([(y[i] - predictions[i]) ** 2 for i in range(len(y))]) / len(y)\n",
        "\n",
        "# Training Data\n",
        "X_train = [[0.1, 0.2, 0.3], [0.2, 0.3, 0.4], [0.3, 0.4, 0.5], [0.5, 0.6, 0.7],\n",
        "           [0.1, 0.3, 0.5], [0.2, 0.4, 0.6], [0.3, 0.5, 0.7], [0.4, 0.6, 0.8], [0.5, 0.7, 0.1]]\n",
        "y_train = [0.14, 0.20, 0.26, 0.38, 0.22, 0.28, 0.34, 0.40, 0.22]\n",
        "\n",
        "# Testing Data\n",
        "X_test = [[0.6, 0.7, 0.8], [0.7, 0.8, 0.9]]\n",
        "y_test = [0.44, 0.50]\n",
        "\n",
        "# Train Model\n",
        "model_linear = ANN_Linear()\n",
        "model_linear.train(X_train, y_train)\n",
        "print(\"MSE on Training Data:\", model_linear.mse(X_train, y_train))\n",
        "print(\"MSE on Testing Data:\", model_linear.mse(X_test, y_test))\n",
        "user_input = list(map(float, input(\"Enter x1, x2, x3 (comma separated): \").split(','))) # Split by comma\n",
        "print(\"Predicted Output:\", model_linear.predict([user_input])[0])\n"
      ],
      "metadata": {
        "colab": {
          "base_uri": "https://localhost:8080/"
        },
        "id": "azFhlJMdoF0F",
        "outputId": "fdd375fd-b939-4410-8ec5-140b711099bb"
      },
      "execution_count": 17,
      "outputs": [
        {
          "output_type": "stream",
          "name": "stdout",
          "text": [
            "MSE on Training Data: 3.934828681319789e-06\n",
            "MSE on Testing Data: 1.3755700993868766e-05\n",
            "Enter x1, x2, x3 (comma separated): 0.6, 0.7, 0.8\n",
            "Predicted Output: 0.4435149199940272\n"
          ]
        }
      ]
    },
    {
      "cell_type": "code",
      "source": [
        "import math\n",
        "\n",
        "class ANN_Sigmoid:\n",
        "    def __init__(self, learning_rate=0.01, epochs=1000):\n",
        "        self.learning_rate = learning_rate\n",
        "        self.epochs = epochs\n",
        "        self.weights = [0.1, 0.1, 0.1]\n",
        "        self.bias = 0.1\n",
        "\n",
        "    def sigmoid(self, x):\n",
        "        return 1 / (1 + math.exp(-x))\n",
        "\n",
        "    def train(self, X, y):\n",
        "        n = len(y)\n",
        "        for _ in range(self.epochs):\n",
        "            for i in range(n):\n",
        "                weighted_sum = sum([X[i][j] * self.weights[j] for j in range(3)]) + self.bias\n",
        "                y_pred = self.sigmoid(weighted_sum)\n",
        "                error = y_pred - y[i]\n",
        "\n",
        "                # Gradient Descent Update\n",
        "                for j in range(3):\n",
        "                    self.weights[j] -= self.learning_rate * 2 * error * X[i][j] * y_pred * (1 - y_pred)\n",
        "                self.bias -= self.learning_rate * 2 * error * y_pred * (1 - y_pred)\n",
        "\n",
        "    def predict(self, X):\n",
        "        return [self.sigmoid(sum([X[i][j] * self.weights[j] for j in range(3)]) + self.bias) for i in range(len(X))]\n",
        "\n",
        "    def mse(self, X, y):\n",
        "        predictions = self.predict(X)\n",
        "        return sum([(y[i] - predictions[i]) ** 2 for i in range(len(y))]) / len(y)\n",
        "\n",
        "# Training Data\n",
        "X_train = [[0.1, 0.2, 0.3], [0.2, 0.3, 0.4], [0.3, 0.4, 0.5], [0.5, 0.6, 0.7],\n",
        "           [0.1, 0.3, 0.5], [0.2, 0.4, 0.6], [0.3, 0.5, 0.7], [0.4, 0.6, 0.8], [0.5, 0.7, 0.1]]\n",
        "y_train = [0.5349, 0.5498, 0.5646, 0.5939, 0.5548, 0.5695, 0.5842, 0.5987, 0.5548]\n",
        "\n",
        "# Testing Data\n",
        "X_test = [[0.6, 0.7, 0.8], [0.7, 0.8, 0.9]]\n",
        "y_test = [0.6083, 0.6225]\n",
        "\n",
        "# Train Model\n",
        "model_sigmoid = ANN_Sigmoid()\n",
        "model_sigmoid.train(X_train, y_train)\n",
        "print(\"MSE on Training Data:\", model_sigmoid.mse(X_train, y_train))\n",
        "print(\"MSE on Testing Data:\", model_sigmoid.mse(X_test, y_test))\n",
        "user_input = list(map(float, input(\"Enter x1, x2, x3 (comma separated): \").split(','))) # Split by comma\n",
        "\n",
        "print(\"Predicted Output:\", model_sigmoid.predict([user_input])[0])\n"
      ],
      "metadata": {
        "colab": {
          "base_uri": "https://localhost:8080/"
        },
        "id": "Ln7vKY8jo9Hv",
        "outputId": "92ae7648-a7dc-4a3b-941d-57a1ae67b464"
      },
      "execution_count": 16,
      "outputs": [
        {
          "output_type": "stream",
          "name": "stdout",
          "text": [
            "MSE on Training Data: 5.194303611904962e-05\n",
            "MSE on Testing Data: 0.0001852918955337365\n",
            "Enter x1, x2, x3 (comma separated): 0.6, 0.7, 0.8\n",
            "Predicted Output: 0.5969452880017452\n"
          ]
        }
      ]
    },
    {
      "cell_type": "markdown",
      "source": [],
      "metadata": {
        "id": "1jjQeo89n49r"
      }
    }
  ]
}