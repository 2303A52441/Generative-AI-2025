{
  "nbformat": 4,
  "nbformat_minor": 0,
  "metadata": {
    "colab": {
      "provenance": [],
      "authorship_tag": "ABX9TyNNCaxM19IOa0y0mGY4LLIh",
      "include_colab_link": true
    },
    "kernelspec": {
      "name": "python3",
      "display_name": "Python 3"
    },
    "language_info": {
      "name": "python"
    }
  },
  "cells": [
    {
      "cell_type": "markdown",
      "metadata": {
        "id": "view-in-github",
        "colab_type": "text"
      },
      "source": [
        "<a href=\"https://colab.research.google.com/github/2303A52441/Generative-AI-2025/blob/main/Gen_Ai_04.ipynb\" target=\"_parent\"><img src=\"https://colab.research.google.com/assets/colab-badge.svg\" alt=\"Open In Colab\"/></a>"
      ]
    },
    {
      "cell_type": "code",
      "execution_count": null,
      "metadata": {
        "colab": {
          "base_uri": "https://localhost:8080/"
        },
        "id": "hpzsI--4OfG_",
        "outputId": "09bfaef9-201a-456a-ae77-d134f2259ee9"
      },
      "outputs": [
        {
          "output_type": "stream",
          "name": "stdout",
          "text": [
            "Epoch 0/1000, Loss: 0.18519704643509674\n",
            "Epoch 100/1000, Loss: 0.15740566535035497\n",
            "Epoch 200/1000, Loss: 0.13865673665099162\n",
            "Epoch 300/1000, Loss: 0.12221460312981011\n",
            "Epoch 400/1000, Loss: 0.10778585724973551\n",
            "Epoch 500/1000, Loss: 0.09512314448648891\n",
            "Epoch 600/1000, Loss: 0.08400958682257766\n",
            "Epoch 700/1000, Loss: 0.07425500259016277\n",
            "Epoch 800/1000, Loss: 0.06569261180578256\n",
            "Epoch 900/1000, Loss: 0.058176149304223115\n",
            "\n",
            "Testing Loss: 0.1785266535870232\n",
            "Enter values for x1, x2, and x3 (comma separated): 0.7, 0.8, 0.9\n",
            "Predicted Output: [0.00774123]\n"
          ]
        }
      ],
      "source": [
        "import numpy as np\n",
        "X_train = np.array([\n",
        "    [0.1, 0.2, 0.3],\n",
        "    [0.2, 0.3, 0.4],\n",
        "    [0.3, 0.4, 0.5],\n",
        "    [0.5, 0.6, 0.7],\n",
        "    [0.1, 0.3, 0.5],\n",
        "    [0.2, 0.4, 0.6],\n",
        "    [0.3, 0.5, 0.7],\n",
        "    [0.4, 0.6, 0.8],\n",
        "    [0.5, 0.7, 0.1]\n",
        "])\n",
        "y_train = np.array([0.14, 0.20, 0.26, 0.38, 0.22, 0.28, 0.34, 0.40, 0.22])\n",
        "\n",
        "weights = np.random.randn(3)\n",
        "bias = np.random.randn(1)\n",
        "\n",
        "learning_rate = 0.01\n",
        "epochs = 1000\n",
        "def mean_squared_error(y_true, y_pred):\n",
        "    return np.mean((y_true - y_pred) ** 2)\n",
        "\n",
        "for epoch in range(epochs):\n",
        "    y_pred = np.dot(X_train, weights) + bias\n",
        "\n",
        "    error = y_pred - y_train\n",
        "    d_weights = (2 / len(X_train)) * np.dot(X_train.T, error)\n",
        "    d_bias = (2 / len(X_train)) * np.sum(error)\n",
        "    weights -= learning_rate * d_weights\n",
        "    bias -= learning_rate * d_bias\n",
        "\n",
        "    if epoch % 100 == 0:\n",
        "        loss = mean_squared_error(y_train, y_pred)\n",
        "        print(f\"Epoch {epoch}/{epochs}, Loss: {loss}\")\n",
        "\n",
        "X_test = np.array([[0.6, 0.7, 0.8], [0.7, 0.8, 0.9]])\n",
        "y_test = np.array([0.44, 0.50])\n",
        "\n",
        "y_pred_test = np.dot(X_test, weights) + bias\n",
        "test_loss = mean_squared_error(y_test, y_pred_test)\n",
        "print(\"\\nTesting Loss:\", test_loss)\n",
        "user_input = input(\"Enter values for x1, x2, and x3 (comma separated): \").split(',')\n",
        "user_input = np.array([float(i) for i in user_input])\n",
        "\n",
        "prediction = np.dot(user_input, weights) + bias\n",
        "print(f\"Predicted Output: {prediction}\")\n"
      ]
    },
    {
      "cell_type": "code",
      "source": [
        "import numpy as np\n",
        "\n",
        "X_train = np.array([\n",
        "    [0.1, 0.2, 0.3],\n",
        "    [0.2, 0.3, 0.4],\n",
        "    [0.3, 0.4, 0.5],\n",
        "    [0.5, 0.6, 0.7],\n",
        "    [0.1, 0.3, 0.5],\n",
        "    [0.2, 0.4, 0.6],\n",
        "    [0.3, 0.5, 0.7],\n",
        "    [0.4, 0.6, 0.8],\n",
        "    [0.5, 0.7, 0.1]\n",
        "])\n",
        "y_train = np.array([0.5349, 0.5498, 0.5646, 0.5939, 0.5548, 0.5695, 0.5842, 0.5987, 0.5548])\n",
        "\n",
        "weights = np.random.randn(3)\n",
        "bias = np.random.randn(1)\n",
        "\n",
        "learning_rate = 0.1\n",
        "epochs = 1000\n",
        "\n",
        "def sigmoid(x):\n",
        "    return 1 / (1 + np.exp(-x))\n",
        "def sigmoid_derivative(x):\n",
        "    return sigmoid(x) * (1 - sigmoid(x))\n",
        "\n",
        "def mean_squared_error(y_true, y_pred):\n",
        "    return np.mean((y_true - y_pred) ** 2)\n",
        "\n",
        "for epoch in range(epochs):\n",
        "    linear_output = np.dot(X_train, weights) + bias\n",
        "    y_pred = sigmoid(linear_output)\n",
        "    error = y_pred - y_train\n",
        "\n",
        "    d_weights = (2 / len(X_train)) * np.dot(X_train.T, error * sigmoid_derivative(linear_output))\n",
        "    d_bias = (2 / len(X_train)) * np.sum(error * sigmoid_derivative(linear_output))\n",
        "\n",
        "    weights -= learning_rate * d_weights\n",
        "    bias -= learning_rate * d_bias\n",
        "\n",
        "    if epoch % 100 == 0:\n",
        "        loss = mean_squared_error(y_train, y_pred)\n",
        "        print(f\"Epoch {epoch}/{epochs}, Loss: {loss}\")\n",
        "\n",
        "X_test = np.array([[0.6, 0.7, 0.8], [0.7, 0.8, 0.9]])\n",
        "y_test = np.array([0.6083, 0.6225])\n",
        "\n",
        "linear_output_test = np.dot(X_test, weights) + bias\n",
        "y_pred_test = sigmoid(linear_output_test)\n",
        "test_loss = mean_squared_error(y_test, y_pred_test)\n",
        "print(\"\\nTesting Loss:\", test_loss)\n",
        "\n",
        "user_input = input(\"Enter values for x1, x2, and x3 (comma separated): \").split(',')\n",
        "user_input = np.array([float(i) for i in user_input])\n",
        "\n",
        "linear_output = np.dot(user_input, weights) + bias\n",
        "prediction = sigmoid(linear_output)\n",
        "print(f\"Predicted Output: {prediction}\")\n"
      ],
      "metadata": {
        "colab": {
          "base_uri": "https://localhost:8080/"
        },
        "id": "E0qpCYqSPPtu",
        "outputId": "3e5938b8-47ad-48a1-917c-069c78e8b318"
      },
      "execution_count": null,
      "outputs": [
        {
          "output_type": "stream",
          "name": "stdout",
          "text": [
            "Epoch 0/1000, Loss: 0.030295426015501597\n",
            "Epoch 100/1000, Loss: 0.0021859313036359804\n",
            "Epoch 200/1000, Loss: 0.000615943840041312\n",
            "Epoch 300/1000, Loss: 0.0005338049631274335\n",
            "Epoch 400/1000, Loss: 0.0004968223756786543\n",
            "Epoch 500/1000, Loss: 0.00046355107802383434\n",
            "Epoch 600/1000, Loss: 0.00043273398667492143\n",
            "Epoch 700/1000, Loss: 0.00040416845789119306\n",
            "Epoch 800/1000, Loss: 0.00037769078090594735\n",
            "Epoch 900/1000, Loss: 0.0003531494590745516\n",
            "\n",
            "Testing Loss: 0.00236468074740603\n",
            "Enter values for x1, x2, and x3 (comma separated): 0.6, 0.7, 0.8\n",
            "Predicted Output: [0.65098851]\n"
          ]
        }
      ]
    }
  ]
}