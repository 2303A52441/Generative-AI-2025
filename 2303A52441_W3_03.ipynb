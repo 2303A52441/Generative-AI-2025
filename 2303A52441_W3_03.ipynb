{
  "nbformat": 4,
  "nbformat_minor": 0,
  "metadata": {
    "colab": {
      "provenance": [],
      "authorship_tag": "ABX9TyNHxW6AYnbwO1vpNfuIBZ+k",
      "include_colab_link": true
    },
    "kernelspec": {
      "name": "python3",
      "display_name": "Python 3"
    },
    "language_info": {
      "name": "python"
    }
  },
  "cells": [
    {
      "cell_type": "markdown",
      "metadata": {
        "id": "view-in-github",
        "colab_type": "text"
      },
      "source": [
        "<a href=\"https://colab.research.google.com/github/2303A52441/Generative-AI-2025/blob/main/2303A52441_W3_03.ipynb\" target=\"_parent\"><img src=\"https://colab.research.google.com/assets/colab-badge.svg\" alt=\"Open In Colab\"/></a>"
      ]
    },
    {
      "cell_type": "code",
      "execution_count": null,
      "metadata": {
        "colab": {
          "base_uri": "https://localhost:8080/"
        },
        "id": "7zewS0rbeqAq",
        "outputId": "4699b728-b08b-4a6c-c885-bc6834ee3aa1"
      },
      "outputs": [
        {
          "output_type": "stream",
          "name": "stdout",
          "text": [
            "Minimum x for f(x): 0.0\n"
          ]
        }
      ],
      "source": [
        "#01. f(x) = 5x^4 + 3x^2 + 10\n",
        "\n",
        "def gradient_descent_f1(learning_rate=0.01, iterations=1000):\n",
        "    x = 0  # Initial guess\n",
        "    for _ in range(iterations):\n",
        "        gradient = 20 * x**3 + 6 * x  # Derivative of f(x)\n",
        "        x -= learning_rate * gradient\n",
        "    return x\n",
        "\n",
        "x_min_f1 = gradient_descent_f1()\n",
        "print(\"Minimum x for f(x):\", x_min_f1)"
      ]
    },
    {
      "cell_type": "code",
      "source": [
        "#02. g(x,y) = 3x^2 + 5e^(-y) + 10\n",
        "\n",
        "def gradient_descent_f2(learning_rate=0.01, iterations=1000):\n",
        "    x, y = 0, 0  # Initial guesses\n",
        "    for _ in range(iterations):\n",
        "        gradient_x = 6 * x  # Partial derivative w.r.t x\n",
        "        gradient_y = -5 * (2.718**(-y))  # Partial derivative w.r.t y\n",
        "\n",
        "        # Prevent y from becoming too large/small\n",
        "        if abs(gradient_y) > 1e5:\n",
        "            gradient_y = 1e5 if gradient_y > 0 else -1e5\n",
        "\n",
        "        x -= learning_rate * gradient_x\n",
        "        y -= learning_rate * gradient_y\n",
        "\n",
        "    return x, y\n",
        "\n",
        "x_min_f2, y_min_f2 = gradient_descent_f2()\n",
        "print(\"Minimum (x, y) for g(x, y):\", x_min_f2, y_min_f2)\n"
      ],
      "metadata": {
        "colab": {
          "base_uri": "https://localhost:8080/"
        },
        "id": "JMgc4ohIh68M",
        "outputId": "9d47d783-7209-45bc-dbd6-558888f6a0f5"
      },
      "execution_count": null,
      "outputs": [
        {
          "output_type": "stream",
          "name": "stdout",
          "text": [
            "Minimum (x, y) for g(x, y): 0.0 3.934066431452124\n"
          ]
        }
      ]
    },
    {
      "cell_type": "code",
      "source": [
        "#03.  z(x) = 1 / (1 + e^(-x))\n",
        "\n",
        "def gradient_descent_f3(learning_rate=0.01, iterations=1000):\n",
        "    x = 0  # Initial guess\n",
        "    for _ in range(iterations):\n",
        "        sigmoid = 1 / (1 + 2.718**(-x))  # Sigmoid function approximation\n",
        "        gradient = sigmoid * (1 - sigmoid)  # Derivative of sigmoid function\n",
        "        x -= learning_rate * gradient\n",
        "    return x\n",
        "\n",
        "x_min_f3 = gradient_descent_f3()\n",
        "print(\"Minimum x for z(x):\", x_min_f3)"
      ],
      "metadata": {
        "colab": {
          "base_uri": "https://localhost:8080/"
        },
        "id": "AtxARGdrh6vM",
        "outputId": "a117c50e-12d0-47bc-bc53-e5352b125927"
      },
      "execution_count": null,
      "outputs": [
        {
          "output_type": "stream",
          "name": "stdout",
          "text": [
            "Minimum x for z(x): -1.8619077201329008\n"
          ]
        }
      ]
    },
    {
      "cell_type": "code",
      "source": [
        "#04. SE = (ExpectedOutput - PredictedOutput)^2\n",
        "\n",
        "def gradient_descent_f4(learning_rate=0.01, iterations=1000):\n",
        "    M, C = 0, 0  # Initial guesses\n",
        "    ExpectedOutput, PredictedOutput = 5, lambda x: M * x + C\n",
        "    x = 1  # Sample input value\n",
        "    for _ in range(iterations):\n",
        "        error = ExpectedOutput - PredictedOutput(x)\n",
        "        gradient_M = -2 * x * error  # Partial derivative w.r.t M\n",
        "        gradient_C = -2 * error  # Partial derivative w.r.t C\n",
        "        M -= learning_rate * gradient_M\n",
        "        C -= learning_rate * gradient_C\n",
        "    return M, C\n",
        "\n",
        "M_opt, C_opt = gradient_descent_f4()\n",
        "print(\"Optimal (M, C):\", M_opt, C_opt)\n"
      ],
      "metadata": {
        "colab": {
          "base_uri": "https://localhost:8080/"
        },
        "id": "gkoPUne4iGXq",
        "outputId": "23669495-ed53-4e1a-8afe-c8b525c78b2d"
      },
      "execution_count": null,
      "outputs": [
        {
          "output_type": "stream",
          "name": "stdout",
          "text": [
            "Optimal (M, C): 2.4999999999999947 2.4999999999999947\n"
          ]
        }
      ]
    }
  ]
}