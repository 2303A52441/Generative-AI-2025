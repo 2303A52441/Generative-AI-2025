{
  "nbformat": 4,
  "nbformat_minor": 0,
  "metadata": {
    "colab": {
      "provenance": [],
      "authorship_tag": "ABX9TyPSTlrVqlO3nTaM00lbSKCN",
      "include_colab_link": true
    },
    "kernelspec": {
      "name": "python3",
      "display_name": "Python 3"
    },
    "language_info": {
      "name": "python"
    }
  },
  "cells": [
    {
      "cell_type": "markdown",
      "metadata": {
        "id": "view-in-github",
        "colab_type": "text"
      },
      "source": [
        "<a href=\"https://colab.research.google.com/github/2303A52441/Generative-AI-2025/blob/main/2303A52441_W9_09.ipynb\" target=\"_parent\"><img src=\"https://colab.research.google.com/assets/colab-badge.svg\" alt=\"Open In Colab\"/></a>"
      ]
    },
    {
      "cell_type": "code",
      "execution_count": 1,
      "metadata": {
        "colab": {
          "base_uri": "https://localhost:8080/"
        },
        "id": "pR94FugZop8f",
        "outputId": "52b2dac4-e4ee-4e02-ab48-7fa99de90909"
      },
      "outputs": [
        {
          "output_type": "stream",
          "name": "stdout",
          "text": [
            "Downloading data from https://storage.googleapis.com/tensorflow/tf-keras-datasets/mnist.npz\n",
            "\u001b[1m11490434/11490434\u001b[0m \u001b[32m━━━━━━━━━━━━━━━━━━━━\u001b[0m\u001b[37m\u001b[0m \u001b[1m0s\u001b[0m 0us/step\n"
          ]
        },
        {
          "output_type": "stream",
          "name": "stderr",
          "text": [
            "/usr/local/lib/python3.11/dist-packages/keras/src/layers/reshaping/flatten.py:37: UserWarning: Do not pass an `input_shape`/`input_dim` argument to a layer. When using Sequential models, prefer using an `Input(shape)` object as the first layer in the model instead.\n",
            "  super().__init__(**kwargs)\n"
          ]
        },
        {
          "output_type": "stream",
          "name": "stdout",
          "text": [
            "\n",
            "Training Model 1...\n",
            "Epoch 1/10\n",
            "469/469 - 5s - 10ms/step - accuracy: 0.0901 - loss: 2.3302 - val_accuracy: 0.0959 - val_loss: 2.3228\n",
            "Epoch 2/10\n",
            "469/469 - 2s - 4ms/step - accuracy: 0.1010 - loss: 2.3126 - val_accuracy: 0.1099 - val_loss: 2.3055\n",
            "Epoch 3/10\n",
            "469/469 - 3s - 5ms/step - accuracy: 0.1144 - loss: 2.2959 - val_accuracy: 0.1254 - val_loss: 2.2889\n",
            "Epoch 4/10\n",
            "469/469 - 3s - 6ms/step - accuracy: 0.1301 - loss: 2.2799 - val_accuracy: 0.1407 - val_loss: 2.2727\n",
            "Epoch 5/10\n",
            "469/469 - 2s - 5ms/step - accuracy: 0.1470 - loss: 2.2640 - val_accuracy: 0.1632 - val_loss: 2.2566\n",
            "Epoch 6/10\n",
            "469/469 - 1s - 3ms/step - accuracy: 0.1665 - loss: 2.2480 - val_accuracy: 0.1874 - val_loss: 2.2405\n",
            "Epoch 7/10\n",
            "469/469 - 3s - 5ms/step - accuracy: 0.1900 - loss: 2.2317 - val_accuracy: 0.2090 - val_loss: 2.2239\n",
            "Epoch 8/10\n",
            "469/469 - 2s - 5ms/step - accuracy: 0.2124 - loss: 2.2150 - val_accuracy: 0.2320 - val_loss: 2.2069\n",
            "Epoch 9/10\n",
            "469/469 - 3s - 5ms/step - accuracy: 0.2337 - loss: 2.1978 - val_accuracy: 0.2492 - val_loss: 2.1891\n",
            "Epoch 10/10\n",
            "469/469 - 2s - 4ms/step - accuracy: 0.2530 - loss: 2.1799 - val_accuracy: 0.2649 - val_loss: 2.1706\n",
            "Model 1 - Training Accuracy: 0.2630\n",
            "Model 1 - Testing Accuracy: 0.2649\n",
            "\n",
            "Training Model 2...\n",
            "Epoch 1/10\n",
            "469/469 - 3s - 6ms/step - accuracy: 0.1333 - loss: 2.2995 - val_accuracy: 0.1452 - val_loss: 2.2833\n",
            "Epoch 2/10\n",
            "469/469 - 3s - 5ms/step - accuracy: 0.1500 - loss: 2.2649 - val_accuracy: 0.1636 - val_loss: 2.2482\n",
            "Epoch 3/10\n",
            "469/469 - 2s - 4ms/step - accuracy: 0.1692 - loss: 2.2310 - val_accuracy: 0.1850 - val_loss: 2.2137\n",
            "Epoch 4/10\n",
            "469/469 - 3s - 6ms/step - accuracy: 0.1906 - loss: 2.1978 - val_accuracy: 0.2056 - val_loss: 2.1796\n",
            "Epoch 5/10\n",
            "469/469 - 4s - 9ms/step - accuracy: 0.2152 - loss: 2.1648 - val_accuracy: 0.2331 - val_loss: 2.1452\n",
            "Epoch 6/10\n",
            "469/469 - 2s - 5ms/step - accuracy: 0.2427 - loss: 2.1314 - val_accuracy: 0.2604 - val_loss: 2.1102\n",
            "Epoch 7/10\n",
            "469/469 - 2s - 4ms/step - accuracy: 0.2733 - loss: 2.0973 - val_accuracy: 0.2949 - val_loss: 2.0742\n",
            "Epoch 8/10\n",
            "469/469 - 3s - 7ms/step - accuracy: 0.3066 - loss: 2.0622 - val_accuracy: 0.3316 - val_loss: 2.0371\n",
            "Epoch 9/10\n",
            "469/469 - 2s - 4ms/step - accuracy: 0.3416 - loss: 2.0258 - val_accuracy: 0.3700 - val_loss: 1.9987\n",
            "Epoch 10/10\n",
            "469/469 - 2s - 5ms/step - accuracy: 0.3795 - loss: 1.9881 - val_accuracy: 0.4078 - val_loss: 1.9592\n",
            "Model 2 - Training Accuracy: 0.3965\n",
            "Model 2 - Testing Accuracy: 0.4078\n",
            "\n",
            "Best model based on test accuracy: Model 2\n"
          ]
        }
      ],
      "source": [
        "import numpy as np\n",
        "import tensorflow as tf\n",
        "from tensorflow.keras.models import Sequential\n",
        "from tensorflow.keras.layers import Dense, Flatten\n",
        "from tensorflow.keras.datasets import mnist\n",
        "from tensorflow.keras.utils import to_categorical\n",
        "from tensorflow.keras.optimizers import Adadelta\n",
        "\n",
        "# Load dataset\n",
        "(x_train, y_train), (x_test, y_test) = mnist.load_data()\n",
        "\n",
        "# Normalize the data\n",
        "x_train = x_train / 255.0\n",
        "x_test = x_test / 255.0\n",
        "\n",
        "# One-hot encode the labels\n",
        "y_train = to_categorical(y_train, 10)\n",
        "y_test = to_categorical(y_test, 10)\n",
        "\n",
        "# Initial model (Architecture from Tabela 1)\n",
        "def build_model_1():\n",
        "    model = Sequential([\n",
        "        Flatten(input_shape=(28, 28)),\n",
        "        Dense(32, activation='relu'),\n",
        "        Dense(32, activation='relu'),\n",
        "        Dense(32, activation='relu'),\n",
        "        Dense(10, activation='softmax')\n",
        "    ])\n",
        "    return model\n",
        "\n",
        "# Alternate architecture with tuning\n",
        "def build_model_2():\n",
        "    model = Sequential([\n",
        "        Flatten(input_shape=(28, 28)),\n",
        "        Dense(64, activation='relu'),\n",
        "        Dense(64, activation='relu'),\n",
        "        Dense(10, activation='softmax')\n",
        "    ])\n",
        "    return model\n",
        "\n",
        "# Compile, train and evaluate model\n",
        "def compile_train_evaluate(model, name=\"Model\"):\n",
        "    model.compile(optimizer=Adadelta(), loss='categorical_crossentropy', metrics=['accuracy'])\n",
        "    print(f\"\\nTraining {name}...\")\n",
        "    history = model.fit(x_train, y_train, epochs=10, batch_size=128, verbose=2, validation_data=(x_test, y_test))\n",
        "    train_loss, train_acc = model.evaluate(x_train, y_train, verbose=0)\n",
        "    test_loss, test_acc = model.evaluate(x_test, y_test, verbose=0)\n",
        "    print(f\"{name} - Training Accuracy: {train_acc:.4f}\")\n",
        "    print(f\"{name} - Testing Accuracy: {test_acc:.4f}\")\n",
        "    return model, history, test_acc\n",
        "\n",
        "# Train original model\n",
        "model1, hist1, acc1 = compile_train_evaluate(build_model_1(), \"Model 1\")\n",
        "\n",
        "# Train tuned model\n",
        "model2, hist2, acc2 = compile_train_evaluate(build_model_2(), \"Model 2\")\n",
        "\n",
        "# Choose the best model\n",
        "best_model = model1 if acc1 > acc2 else model2\n",
        "print(\"\\nBest model based on test accuracy:\", \"Model 1\" if acc1 > acc2 else \"Model 2\")\n"
      ]
    }
  ]
}