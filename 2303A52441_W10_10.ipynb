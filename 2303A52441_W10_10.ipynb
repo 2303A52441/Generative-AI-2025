{
  "nbformat": 4,
  "nbformat_minor": 0,
  "metadata": {
    "colab": {
      "provenance": [],
      "authorship_tag": "ABX9TyPPHTWKRaPIoDPFUjf1LOKB",
      "include_colab_link": true
    },
    "kernelspec": {
      "name": "python3",
      "display_name": "Python 3"
    },
    "language_info": {
      "name": "python"
    }
  },
  "cells": [
    {
      "cell_type": "markdown",
      "metadata": {
        "id": "view-in-github",
        "colab_type": "text"
      },
      "source": [
        "<a href=\"https://colab.research.google.com/github/2303A52441/Generative-AI-2025/blob/main/2303A52441_W10_10.ipynb\" target=\"_parent\"><img src=\"https://colab.research.google.com/assets/colab-badge.svg\" alt=\"Open In Colab\"/></a>"
      ]
    },
    {
      "cell_type": "code",
      "source": [
        "import numpy as np\n",
        "import tensorflow as tf\n",
        "from tensorflow.keras.models import Sequential\n",
        "from tensorflow.keras.layers import Conv2D, MaxPooling2D, Flatten, Dense\n",
        "from tensorflow.keras.datasets import mnist\n",
        "from tensorflow.keras.utils import to_categorical\n",
        "\n",
        "# Load and preprocess MNIST data\n",
        "(x_train, y_train), (x_test, y_test) = mnist.load_data()\n",
        "x_train = x_train[:10000].reshape(-1, 28, 28, 1).astype('float32') / 255.0  # Use only 10k samples\n",
        "y_train = to_categorical(y_train[:10000], 10)\n",
        "x_test = x_test[:2000].reshape(-1, 28, 28, 1).astype('float32') / 255.0     # Use only 2k samples\n",
        "y_test = to_categorical(y_test[:2000], 10)\n",
        "\n",
        "# Build simplified CNN model\n",
        "model = Sequential([\n",
        "    Conv2D(33, kernel_size=(3, 3), activation='relu', input_shape=(28, 28, 1)),\n",
        "    MaxPooling2D(pool_size=(2, 2)),\n",
        "    Conv2D(64, kernel_size=(3, 3), activation='relu'),\n",
        "    MaxPooling2D(pool_size=(2, 2)),\n",
        "    Flatten(),\n",
        "    Dense(128, activation='relu'),\n",
        "    Dense(10, activation='softmax')\n",
        "])\n",
        "\n",
        "# Compile the model\n",
        "model.compile(optimizer='adam', loss='categorical_crossentropy', metrics=['accuracy'])\n",
        "\n",
        "# Train (only 5 epochs for speed)\n",
        "model.fit(x_train, y_train, epochs=30, batch_size=64, verbose=2, validation_data=(x_test, y_test))\n",
        "\n",
        "# Evaluate\n",
        "train_acc = model.evaluate(x_train, y_train, verbose=0)[1]\n",
        "test_acc = model.evaluate(x_test, y_test, verbose=0)[1]\n",
        "\n",
        "print(f\"\\nQuick Training Accuracy: {train_acc:.4f}\")\n",
        "print(f\"Quick Testing Accuracy: {test_acc:.4f}\")\n"
      ],
      "metadata": {
        "colab": {
          "base_uri": "https://localhost:8080/"
        },
        "id": "dzz7v7eir-_I",
        "outputId": "f9bb04c4-0f10-4dec-c278-b3208cbc081c"
      },
      "execution_count": 3,
      "outputs": [
        {
          "output_type": "stream",
          "name": "stdout",
          "text": [
            "Epoch 1/30\n",
            "157/157 - 9s - 60ms/step - accuracy: 0.8543 - loss: 0.5019 - val_accuracy: 0.9435 - val_loss: 0.1878\n",
            "Epoch 2/30\n",
            "157/157 - 9s - 55ms/step - accuracy: 0.9610 - loss: 0.1298 - val_accuracy: 0.9600 - val_loss: 0.1307\n",
            "Epoch 3/30\n",
            "157/157 - 9s - 56ms/step - accuracy: 0.9750 - loss: 0.0845 - val_accuracy: 0.9665 - val_loss: 0.1043\n",
            "Epoch 4/30\n",
            "157/157 - 8s - 48ms/step - accuracy: 0.9799 - loss: 0.0654 - val_accuracy: 0.9670 - val_loss: 0.1049\n",
            "Epoch 5/30\n",
            "157/157 - 10s - 65ms/step - accuracy: 0.9859 - loss: 0.0474 - val_accuracy: 0.9730 - val_loss: 0.0923\n",
            "Epoch 6/30\n",
            "157/157 - 10s - 66ms/step - accuracy: 0.9905 - loss: 0.0333 - val_accuracy: 0.9735 - val_loss: 0.0886\n",
            "Epoch 7/30\n",
            "157/157 - 9s - 54ms/step - accuracy: 0.9934 - loss: 0.0231 - val_accuracy: 0.9710 - val_loss: 0.0952\n",
            "Epoch 8/30\n",
            "157/157 - 11s - 70ms/step - accuracy: 0.9920 - loss: 0.0272 - val_accuracy: 0.9700 - val_loss: 0.0968\n",
            "Epoch 9/30\n",
            "157/157 - 8s - 49ms/step - accuracy: 0.9958 - loss: 0.0133 - val_accuracy: 0.9775 - val_loss: 0.0726\n",
            "Epoch 10/30\n",
            "157/157 - 11s - 68ms/step - accuracy: 0.9980 - loss: 0.0076 - val_accuracy: 0.9775 - val_loss: 0.0886\n",
            "Epoch 11/30\n",
            "157/157 - 9s - 56ms/step - accuracy: 0.9997 - loss: 0.0034 - val_accuracy: 0.9795 - val_loss: 0.0792\n",
            "Epoch 12/30\n",
            "157/157 - 8s - 49ms/step - accuracy: 0.9984 - loss: 0.0058 - val_accuracy: 0.9735 - val_loss: 0.0898\n",
            "Epoch 13/30\n",
            "157/157 - 10s - 65ms/step - accuracy: 0.9947 - loss: 0.0158 - val_accuracy: 0.9775 - val_loss: 0.0806\n",
            "Epoch 14/30\n",
            "157/157 - 9s - 56ms/step - accuracy: 0.9984 - loss: 0.0060 - val_accuracy: 0.9785 - val_loss: 0.0849\n",
            "Epoch 15/30\n",
            "157/157 - 9s - 57ms/step - accuracy: 0.9965 - loss: 0.0112 - val_accuracy: 0.9770 - val_loss: 0.0938\n",
            "Epoch 16/30\n",
            "157/157 - 9s - 56ms/step - accuracy: 0.9980 - loss: 0.0065 - val_accuracy: 0.9760 - val_loss: 0.0941\n",
            "Epoch 17/30\n",
            "157/157 - 10s - 65ms/step - accuracy: 0.9981 - loss: 0.0062 - val_accuracy: 0.9740 - val_loss: 0.0959\n",
            "Epoch 18/30\n",
            "157/157 - 11s - 69ms/step - accuracy: 0.9991 - loss: 0.0038 - val_accuracy: 0.9720 - val_loss: 0.1207\n",
            "Epoch 19/30\n",
            "157/157 - 9s - 54ms/step - accuracy: 0.9985 - loss: 0.0043 - val_accuracy: 0.9755 - val_loss: 0.0949\n",
            "Epoch 20/30\n",
            "157/157 - 11s - 68ms/step - accuracy: 0.9995 - loss: 0.0015 - val_accuracy: 0.9785 - val_loss: 0.0869\n",
            "Epoch 21/30\n",
            "157/157 - 9s - 55ms/step - accuracy: 0.9989 - loss: 0.0045 - val_accuracy: 0.9795 - val_loss: 0.0868\n",
            "Epoch 22/30\n",
            "157/157 - 10s - 67ms/step - accuracy: 0.9992 - loss: 0.0029 - val_accuracy: 0.9795 - val_loss: 0.0811\n",
            "Epoch 23/30\n",
            "157/157 - 9s - 55ms/step - accuracy: 0.9999 - loss: 4.8342e-04 - val_accuracy: 0.9800 - val_loss: 0.0848\n",
            "Epoch 24/30\n",
            "157/157 - 9s - 54ms/step - accuracy: 1.0000 - loss: 1.0785e-04 - val_accuracy: 0.9805 - val_loss: 0.0829\n",
            "Epoch 25/30\n",
            "157/157 - 8s - 48ms/step - accuracy: 1.0000 - loss: 6.7791e-05 - val_accuracy: 0.9810 - val_loss: 0.0853\n",
            "Epoch 26/30\n",
            "157/157 - 11s - 71ms/step - accuracy: 1.0000 - loss: 5.4038e-05 - val_accuracy: 0.9810 - val_loss: 0.0860\n",
            "Epoch 27/30\n",
            "157/157 - 10s - 66ms/step - accuracy: 1.0000 - loss: 4.4331e-05 - val_accuracy: 0.9810 - val_loss: 0.0870\n",
            "Epoch 28/30\n",
            "157/157 - 8s - 53ms/step - accuracy: 1.0000 - loss: 3.7994e-05 - val_accuracy: 0.9810 - val_loss: 0.0879\n",
            "Epoch 29/30\n",
            "157/157 - 8s - 49ms/step - accuracy: 1.0000 - loss: 3.2603e-05 - val_accuracy: 0.9810 - val_loss: 0.0894\n",
            "Epoch 30/30\n",
            "157/157 - 11s - 71ms/step - accuracy: 1.0000 - loss: 2.8691e-05 - val_accuracy: 0.9810 - val_loss: 0.0901\n",
            "\n",
            "Quick Training Accuracy: 1.0000\n",
            "Quick Testing Accuracy: 0.9810\n"
          ]
        }
      ]
    }
  ]
}