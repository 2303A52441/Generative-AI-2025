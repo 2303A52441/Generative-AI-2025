{
  "nbformat": 4,
  "nbformat_minor": 0,
  "metadata": {
    "colab": {
      "provenance": [],
      "authorship_tag": "ABX9TyOBl/B13pmxV1AAEudhLBtN",
      "include_colab_link": true
    },
    "kernelspec": {
      "name": "python3",
      "display_name": "Python 3"
    },
    "language_info": {
      "name": "python"
    }
  },
  "cells": [
    {
      "cell_type": "markdown",
      "metadata": {
        "id": "view-in-github",
        "colab_type": "text"
      },
      "source": [
        "<a href=\"https://colab.research.google.com/github/2303A52441/Generative-AI-2025/blob/main/2303A52441_W1_01.ipynb\" target=\"_parent\"><img src=\"https://colab.research.google.com/assets/colab-badge.svg\" alt=\"Open In Colab\"/></a>"
      ]
    },
    {
      "cell_type": "code",
      "source": [
        "#Question-01"
      ],
      "metadata": {
        "id": "K-bwKcTxFmf9"
      },
      "execution_count": null,
      "outputs": []
    },
    {
      "cell_type": "code",
      "execution_count": null,
      "metadata": {
        "colab": {
          "base_uri": "https://localhost:8080/"
        },
        "id": "Az7o-nhc_HPs",
        "outputId": "87485bd1-7bc5-46ac-f22a-1710d5d65bda"
      },
      "outputs": [
        {
          "output_type": "stream",
          "name": "stdout",
          "text": [
            "Mean Absolute Error: 0.4600000000000016\n",
            "Mean Squared Error: 0.24600000000000147\n",
            "Root Mean Squared Error: 0.49598387070549127\n",
            "Mean Absolute Error(mae): 0.4600000000000016\n",
            "Mean Squared Error(mse): 0.24600000000000147\n",
            "Root Mean Squared Error(rmse): 0.49598387070549127\n"
          ]
        }
      ],
      "source": [
        "import numpy as np\n",
        "\n",
        "y_actual=np.array([20,30,40,50,60])\n",
        "y_predict=np.array([20.5,30.3,40.2,50.6,60.7])\n",
        "\n",
        "absolute_errors = np.abs(y_actual - y_predict)\n",
        "mean_absolute_error = np.mean(absolute_errors)\n",
        "print(\"Mean Absolute Error:\", mean_absolute_error)\n",
        "\n",
        "squared_errors = np.square(y_actual - y_predict)\n",
        "mean_squared_error = np.mean(squared_errors)\n",
        "print(\"Mean Squared Error:\", mean_squared_error)\n",
        "\n",
        "root_mean_squared_error = np.sqrt(mean_squared_error)\n",
        "print(\"Root Mean Squared Error:\", root_mean_squared_error)\n",
        "\n",
        "from sklearn.metrics import mean_absolute_error, mean_squared_error, root_mean_squared_error\n",
        "mae = mean_absolute_error(y_actual, y_predict)\n",
        "mse = mean_squared_error(y_actual, y_predict)\n",
        "rmse = root_mean_squared_error(y_actual, y_predict)\n",
        "print(\"Mean Absolute Error(mae):\", mae)\n",
        "print(\"Mean Squared Error(mse):\", mse)\n",
        "print(\"Root Mean Squared Error(rmse):\", rmse)\n"
      ]
    },
    {
      "cell_type": "code",
      "source": [
        "#Question-02"
      ],
      "metadata": {
        "id": "Y8CWWup3FlxF"
      },
      "execution_count": null,
      "outputs": []
    },
    {
      "cell_type": "code",
      "source": [
        "import numpy as np\n",
        "y_actual=[0,0,0,0,0]\n",
        "y_predict=[0,0,1,2,2]\n",
        "\n",
        "correct_predictions=np.sum(y_actual==y_predict)\n",
        "total_predictions=len(y_actual)\n",
        "accuracy=correct_predictions/total_predictions\n",
        "print(f'Accuracy: {accuracy:.4f}')"
      ],
      "metadata": {
        "colab": {
          "base_uri": "https://localhost:8080/"
        },
        "id": "jSBYTBpAG6XQ",
        "outputId": "cba236c2-6c53-4537-f477-867d780ed663"
      },
      "execution_count": null,
      "outputs": [
        {
          "output_type": "stream",
          "name": "stdout",
          "text": [
            "Accuracy: 0.0000\n"
          ]
        }
      ]
    }
  ]
}